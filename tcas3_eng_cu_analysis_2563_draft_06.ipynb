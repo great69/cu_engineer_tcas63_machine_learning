{
 "cells": [
  {
   "cell_type": "markdown",
   "metadata": {},
   "source": [
    "# ทำนายคะแนนต่ำสุด วิศวะ จุฬา TCAS รอบ 3 (รุ่น Dek63)\n",
    "_โดย พี่เกรท ออนดีมานด์_\n",
    "\n",
    "โจทย์: ทำนายคะแนนต่ำสุด สอบติดวิศวะ จุฬา TCAS รอบ 3 ด้วย Machine Learning Models\n",
    "\n",
    "> **Disclaimer:** การวิเคราะห์นี้ ทำด้วยข้อมูลเท่าที่หาได้จากเว็บไซต์ สทศ ซึ่งมีข้อมูลย้อนหลังถึงปี 2553 ที่เริ่มมีการสอบ GAT/PAT อีกทั้งเราไม่เอาคะแนนปี 53-54 มาคิดเพราะเกณฑ์การรับมี GPAX ด้วย ต่างจากปี 55 เป็นต้นไป ที่ใช้คะแนน GAT/PAT เพียงอย่างเดียว ดังนั้น จำนวนจุดของข้อมูลจึงมีจำกัดมากๆ อาจทำให้คะแนนที่ทำนายออกมา มีความแม่นยำที่ลดลง อย่างไรก็ตาม พี่จะทำนายแล้วระบุความคลาดเคลื่อนเอาไว้ให้ด้วยครับ"
   ]
  },
  {
   "cell_type": "markdown",
   "metadata": {},
   "source": [
    "## TL;DR\n",
    "\n",
    "จากการทำนายด้วยโมเดล Linear Regression พบว่า คะแนนทำนายต่ำสุดเพื่อสอบติด วิศวะ จุฬา TCAS รอบ 3 ปี 2563 โดยใช้ข้อมูลปี 2555-2562 คือ\n",
    "\n",
    "> ### 19,334 ± 237 คะแนน\n",
    "\n",
    "ข้อสรุปจากการวิเคราะห์\n",
    "- คะแนนปีนี้ มีแนวโน้ม **เฟ้อ**มากกว่าทุกปีที่ผ่านมา (สังเกตเบื้องต้นได้จากจำนวนคนทำ PAT1 ได้เกิน 120 ที่เพิ่มขึ้นจากปีก่อนๆ ถึงเท่าตัว)\n",
    "- คะแนนปีนี้ มีแนวโน้มใกล้เคียงคะแนนปี **2558** และ **2560**\n",
    "- น้องที่มีคะแนนในช่วง 19,XXX มีสิทธิ์ลุ้นสอบติดนะครับ (แม้แต่หากน้องได้ 18,XXX ก็ควรลองยื่นเป็นอันดับ 1 ดูครับ)\n",
    "- แต่พี่ขอย้ำอีกทีนะครับว่า คะแนนทำนายนี้ เป็นเพียงคะแนนทำนายเท่านั้น ทำให้อาจมีปัจจัยอื่นที่โมเดลไม่ได้คำนึงถึงครับ\n",
    "\n",
    "ทั้งนี้ การเลือกคณะ พี่แนะนำให้น้องเลือกด้วยหลักการดังนี้นะครับ\n",
    "\n",
    "- **อันดับ 1:** เลือกตามความอยากเลยโดยไม่ต้องแคร์คะแนนที่น้องได้ จะได้ไม่คาใจครับ\n",
    "- **อันดับ 2-3:** คะแนนของน้อง อยู่ในช่วงค่าต่ำสุดที่สอบติดของ 3 ปีย้อนหลัง\n",
    "- **อันดับ 4-5:** คะแนนของน้อง เกินคะแนนต่ำสุดที่สอบติดของ 3 ปี ย้อนหลัง อย่างน้อย 1500 คะแนน (สเกลเต็ม 30000)\n",
    "- **อันดับ 6:** คะแนนของน้อง เกินคะแนนต่ำสุดที่สอบติดของ 3 ปี ย้อนหลัง อย่างน้อย 3000 คะแนน (สเกลเต็ม 30000)\n",
    "\n",
    "และน้องสามารถวิเคราะห์คะแนนและดูสถิติเพิ่มเติม ได้ที่แอพพลิเคชั่น TCASter (https://tcaster.net/) หรือติดตามข่าวสารได้ที่ Facebook Fanpage (https://www.facebook.com/TCASterApp/) ครับ\n",
    "\n",
    "แล้วก็ เดี๋ยวพี่จะวิเคราะห์คะแนน กสพท ให้ด้วย รอติดตามได้ทาง Instagram ของพี่ ที่ https://www.instagram.com/pgreatondemand นะครับ\n",
    "\n",
    "ขอให้น้องๆ สอบติดได้ตามที่ตั้งใจไว้นะ :-)"
   ]
  },
  {
   "cell_type": "markdown",
   "metadata": {},
   "source": [
    "## Data Import"
   ]
  },
  {
   "cell_type": "code",
   "execution_count": 2,
   "metadata": {},
   "outputs": [],
   "source": [
    "import pandas as pd\n",
    "import numpy as np\n",
    "\n",
    "df = pd.read_csv('engcuraw63_05.csv', index_col=0)"
   ]
  },
  {
   "cell_type": "code",
   "execution_count": 3,
   "metadata": {
    "scrolled": false
   },
   "outputs": [
    {
     "data": {
      "text/html": [
       "<div>\n",
       "<style scoped>\n",
       "    .dataframe tbody tr th:only-of-type {\n",
       "        vertical-align: middle;\n",
       "    }\n",
       "\n",
       "    .dataframe tbody tr th {\n",
       "        vertical-align: top;\n",
       "    }\n",
       "\n",
       "    .dataframe thead th {\n",
       "        text-align: right;\n",
       "    }\n",
       "</style>\n",
       "<table border=\"1\" class=\"dataframe\">\n",
       "  <thead>\n",
       "    <tr style=\"text-align: right;\">\n",
       "      <th></th>\n",
       "      <th>Round</th>\n",
       "      <th>CU_R3_Min</th>\n",
       "      <th>Quota</th>\n",
       "      <th>GAT_N</th>\n",
       "      <th>PAT1_N</th>\n",
       "      <th>PAT3_N</th>\n",
       "      <th>GAT_avg</th>\n",
       "      <th>GAT_std</th>\n",
       "      <th>PAT1_avg</th>\n",
       "      <th>PAT1_std</th>\n",
       "      <th>...</th>\n",
       "      <th>PAT1_210</th>\n",
       "      <th>PAT1_240</th>\n",
       "      <th>PAT1_270</th>\n",
       "      <th>PAT3_90</th>\n",
       "      <th>PAT3_120</th>\n",
       "      <th>PAT3_150</th>\n",
       "      <th>PAT3_180</th>\n",
       "      <th>PAT3_210</th>\n",
       "      <th>PAT3_240</th>\n",
       "      <th>PAT3_270</th>\n",
       "    </tr>\n",
       "    <tr>\n",
       "      <th>Year</th>\n",
       "      <th></th>\n",
       "      <th></th>\n",
       "      <th></th>\n",
       "      <th></th>\n",
       "      <th></th>\n",
       "      <th></th>\n",
       "      <th></th>\n",
       "      <th></th>\n",
       "      <th></th>\n",
       "      <th></th>\n",
       "      <th></th>\n",
       "      <th></th>\n",
       "      <th></th>\n",
       "      <th></th>\n",
       "      <th></th>\n",
       "      <th></th>\n",
       "      <th></th>\n",
       "      <th></th>\n",
       "      <th></th>\n",
       "      <th></th>\n",
       "      <th></th>\n",
       "    </tr>\n",
       "  </thead>\n",
       "  <tbody>\n",
       "    <tr>\n",
       "      <th>2555</th>\n",
       "      <td>1</td>\n",
       "      <td>16465.0</td>\n",
       "      <td>800</td>\n",
       "      <td>284735</td>\n",
       "      <td>200693</td>\n",
       "      <td>39488</td>\n",
       "      <td>130.59</td>\n",
       "      <td>68.04</td>\n",
       "      <td>39.64</td>\n",
       "      <td>20.07</td>\n",
       "      <td>...</td>\n",
       "      <td>73</td>\n",
       "      <td>22</td>\n",
       "      <td>4</td>\n",
       "      <td>7622</td>\n",
       "      <td>2512</td>\n",
       "      <td>1097</td>\n",
       "      <td>505</td>\n",
       "      <td>176</td>\n",
       "      <td>28</td>\n",
       "      <td>0</td>\n",
       "    </tr>\n",
       "    <tr>\n",
       "      <th>2556</th>\n",
       "      <td>1</td>\n",
       "      <td>19100.0</td>\n",
       "      <td>800</td>\n",
       "      <td>323876</td>\n",
       "      <td>243834</td>\n",
       "      <td>51235</td>\n",
       "      <td>114.30</td>\n",
       "      <td>60.63</td>\n",
       "      <td>40.61</td>\n",
       "      <td>20.96</td>\n",
       "      <td>...</td>\n",
       "      <td>128</td>\n",
       "      <td>29</td>\n",
       "      <td>14</td>\n",
       "      <td>9958</td>\n",
       "      <td>4463</td>\n",
       "      <td>2305</td>\n",
       "      <td>1337</td>\n",
       "      <td>767</td>\n",
       "      <td>298</td>\n",
       "      <td>8</td>\n",
       "    </tr>\n",
       "    <tr>\n",
       "      <th>2557</th>\n",
       "      <td>1</td>\n",
       "      <td>18552.0</td>\n",
       "      <td>600</td>\n",
       "      <td>237419</td>\n",
       "      <td>173708</td>\n",
       "      <td>35302</td>\n",
       "      <td>143.58</td>\n",
       "      <td>61.60</td>\n",
       "      <td>57.40</td>\n",
       "      <td>24.13</td>\n",
       "      <td>...</td>\n",
       "      <td>98</td>\n",
       "      <td>25</td>\n",
       "      <td>8</td>\n",
       "      <td>11207</td>\n",
       "      <td>3976</td>\n",
       "      <td>1803</td>\n",
       "      <td>808</td>\n",
       "      <td>415</td>\n",
       "      <td>135</td>\n",
       "      <td>13</td>\n",
       "    </tr>\n",
       "    <tr>\n",
       "      <th>2558</th>\n",
       "      <td>1</td>\n",
       "      <td>19090.0</td>\n",
       "      <td>610</td>\n",
       "      <td>316791</td>\n",
       "      <td>239345</td>\n",
       "      <td>49776</td>\n",
       "      <td>131.97</td>\n",
       "      <td>63.81</td>\n",
       "      <td>51.56</td>\n",
       "      <td>18.85</td>\n",
       "      <td>...</td>\n",
       "      <td>42</td>\n",
       "      <td>18</td>\n",
       "      <td>3</td>\n",
       "      <td>11124</td>\n",
       "      <td>4429</td>\n",
       "      <td>2079</td>\n",
       "      <td>1193</td>\n",
       "      <td>686</td>\n",
       "      <td>330</td>\n",
       "      <td>35</td>\n",
       "    </tr>\n",
       "    <tr>\n",
       "      <th>2559</th>\n",
       "      <td>1</td>\n",
       "      <td>17510.0</td>\n",
       "      <td>610</td>\n",
       "      <td>324856</td>\n",
       "      <td>253213</td>\n",
       "      <td>57879</td>\n",
       "      <td>115.66</td>\n",
       "      <td>58.73</td>\n",
       "      <td>52.61</td>\n",
       "      <td>21.64</td>\n",
       "      <td>...</td>\n",
       "      <td>164</td>\n",
       "      <td>63</td>\n",
       "      <td>18</td>\n",
       "      <td>9171</td>\n",
       "      <td>2816</td>\n",
       "      <td>1340</td>\n",
       "      <td>683</td>\n",
       "      <td>330</td>\n",
       "      <td>82</td>\n",
       "      <td>5</td>\n",
       "    </tr>\n",
       "  </tbody>\n",
       "</table>\n",
       "<p>5 rows × 35 columns</p>\n",
       "</div>"
      ],
      "text/plain": [
       "      Round  CU_R3_Min  Quota   GAT_N  PAT1_N  PAT3_N  GAT_avg  GAT_std  \\\n",
       "Year                                                                      \n",
       "2555      1    16465.0    800  284735  200693   39488   130.59    68.04   \n",
       "2556      1    19100.0    800  323876  243834   51235   114.30    60.63   \n",
       "2557      1    18552.0    600  237419  173708   35302   143.58    61.60   \n",
       "2558      1    19090.0    610  316791  239345   49776   131.97    63.81   \n",
       "2559      1    17510.0    610  324856  253213   57879   115.66    58.73   \n",
       "\n",
       "      PAT1_avg  PAT1_std  ...  PAT1_210  PAT1_240  PAT1_270  PAT3_90  \\\n",
       "Year                      ...                                          \n",
       "2555     39.64     20.07  ...        73        22         4     7622   \n",
       "2556     40.61     20.96  ...       128        29        14     9958   \n",
       "2557     57.40     24.13  ...        98        25         8    11207   \n",
       "2558     51.56     18.85  ...        42        18         3    11124   \n",
       "2559     52.61     21.64  ...       164        63        18     9171   \n",
       "\n",
       "      PAT3_120  PAT3_150  PAT3_180  PAT3_210  PAT3_240  PAT3_270  \n",
       "Year                                                              \n",
       "2555      2512      1097       505       176        28         0  \n",
       "2556      4463      2305      1337       767       298         8  \n",
       "2557      3976      1803       808       415       135        13  \n",
       "2558      4429      2079      1193       686       330        35  \n",
       "2559      2816      1340       683       330        82         5  \n",
       "\n",
       "[5 rows x 35 columns]"
      ]
     },
     "execution_count": 3,
     "metadata": {},
     "output_type": "execute_result"
    }
   ],
   "source": [
    "df.head()"
   ]
  },
  {
   "cell_type": "code",
   "execution_count": 4,
   "metadata": {},
   "outputs": [],
   "source": [
    "X = df.drop('CU_R3_Min', axis=1)\n",
    "y = df[['CU_R3_Min']]"
   ]
  },
  {
   "cell_type": "code",
   "execution_count": 5,
   "metadata": {},
   "outputs": [
    {
     "data": {
      "text/html": [
       "<div>\n",
       "<style scoped>\n",
       "    .dataframe tbody tr th:only-of-type {\n",
       "        vertical-align: middle;\n",
       "    }\n",
       "\n",
       "    .dataframe tbody tr th {\n",
       "        vertical-align: top;\n",
       "    }\n",
       "\n",
       "    .dataframe thead th {\n",
       "        text-align: right;\n",
       "    }\n",
       "</style>\n",
       "<table border=\"1\" class=\"dataframe\">\n",
       "  <thead>\n",
       "    <tr style=\"text-align: right;\">\n",
       "      <th></th>\n",
       "      <th>Round</th>\n",
       "      <th>Quota</th>\n",
       "      <th>GAT_N</th>\n",
       "      <th>PAT1_N</th>\n",
       "      <th>PAT3_N</th>\n",
       "      <th>GAT_avg</th>\n",
       "      <th>GAT_std</th>\n",
       "      <th>PAT1_avg</th>\n",
       "      <th>PAT1_std</th>\n",
       "      <th>PAT3_avg</th>\n",
       "      <th>...</th>\n",
       "      <th>PAT1_210</th>\n",
       "      <th>PAT1_240</th>\n",
       "      <th>PAT1_270</th>\n",
       "      <th>PAT3_90</th>\n",
       "      <th>PAT3_120</th>\n",
       "      <th>PAT3_150</th>\n",
       "      <th>PAT3_180</th>\n",
       "      <th>PAT3_210</th>\n",
       "      <th>PAT3_240</th>\n",
       "      <th>PAT3_270</th>\n",
       "    </tr>\n",
       "    <tr>\n",
       "      <th>Year</th>\n",
       "      <th></th>\n",
       "      <th></th>\n",
       "      <th></th>\n",
       "      <th></th>\n",
       "      <th></th>\n",
       "      <th></th>\n",
       "      <th></th>\n",
       "      <th></th>\n",
       "      <th></th>\n",
       "      <th></th>\n",
       "      <th></th>\n",
       "      <th></th>\n",
       "      <th></th>\n",
       "      <th></th>\n",
       "      <th></th>\n",
       "      <th></th>\n",
       "      <th></th>\n",
       "      <th></th>\n",
       "      <th></th>\n",
       "      <th></th>\n",
       "      <th></th>\n",
       "    </tr>\n",
       "  </thead>\n",
       "  <tbody>\n",
       "    <tr>\n",
       "      <th>2555</th>\n",
       "      <td>1</td>\n",
       "      <td>800</td>\n",
       "      <td>284735</td>\n",
       "      <td>200693</td>\n",
       "      <td>39488</td>\n",
       "      <td>130.59</td>\n",
       "      <td>68.04</td>\n",
       "      <td>39.64</td>\n",
       "      <td>20.07</td>\n",
       "      <td>83.45</td>\n",
       "      <td>...</td>\n",
       "      <td>73</td>\n",
       "      <td>22</td>\n",
       "      <td>4</td>\n",
       "      <td>7622</td>\n",
       "      <td>2512</td>\n",
       "      <td>1097</td>\n",
       "      <td>505</td>\n",
       "      <td>176</td>\n",
       "      <td>28</td>\n",
       "      <td>0</td>\n",
       "    </tr>\n",
       "    <tr>\n",
       "      <th>2556</th>\n",
       "      <td>1</td>\n",
       "      <td>800</td>\n",
       "      <td>323876</td>\n",
       "      <td>243834</td>\n",
       "      <td>51235</td>\n",
       "      <td>114.30</td>\n",
       "      <td>60.63</td>\n",
       "      <td>40.61</td>\n",
       "      <td>20.96</td>\n",
       "      <td>91.11</td>\n",
       "      <td>...</td>\n",
       "      <td>128</td>\n",
       "      <td>29</td>\n",
       "      <td>14</td>\n",
       "      <td>9958</td>\n",
       "      <td>4463</td>\n",
       "      <td>2305</td>\n",
       "      <td>1337</td>\n",
       "      <td>767</td>\n",
       "      <td>298</td>\n",
       "      <td>8</td>\n",
       "    </tr>\n",
       "    <tr>\n",
       "      <th>2557</th>\n",
       "      <td>1</td>\n",
       "      <td>600</td>\n",
       "      <td>237419</td>\n",
       "      <td>173708</td>\n",
       "      <td>35302</td>\n",
       "      <td>143.58</td>\n",
       "      <td>61.60</td>\n",
       "      <td>57.40</td>\n",
       "      <td>24.13</td>\n",
       "      <td>99.40</td>\n",
       "      <td>...</td>\n",
       "      <td>98</td>\n",
       "      <td>25</td>\n",
       "      <td>8</td>\n",
       "      <td>11207</td>\n",
       "      <td>3976</td>\n",
       "      <td>1803</td>\n",
       "      <td>808</td>\n",
       "      <td>415</td>\n",
       "      <td>135</td>\n",
       "      <td>13</td>\n",
       "    </tr>\n",
       "    <tr>\n",
       "      <th>2558</th>\n",
       "      <td>1</td>\n",
       "      <td>610</td>\n",
       "      <td>316791</td>\n",
       "      <td>239345</td>\n",
       "      <td>49776</td>\n",
       "      <td>131.97</td>\n",
       "      <td>63.81</td>\n",
       "      <td>51.56</td>\n",
       "      <td>18.85</td>\n",
       "      <td>93.41</td>\n",
       "      <td>...</td>\n",
       "      <td>42</td>\n",
       "      <td>18</td>\n",
       "      <td>3</td>\n",
       "      <td>11124</td>\n",
       "      <td>4429</td>\n",
       "      <td>2079</td>\n",
       "      <td>1193</td>\n",
       "      <td>686</td>\n",
       "      <td>330</td>\n",
       "      <td>35</td>\n",
       "    </tr>\n",
       "    <tr>\n",
       "      <th>2559</th>\n",
       "      <td>1</td>\n",
       "      <td>610</td>\n",
       "      <td>324856</td>\n",
       "      <td>253213</td>\n",
       "      <td>57879</td>\n",
       "      <td>115.66</td>\n",
       "      <td>58.73</td>\n",
       "      <td>52.61</td>\n",
       "      <td>21.64</td>\n",
       "      <td>80.66</td>\n",
       "      <td>...</td>\n",
       "      <td>164</td>\n",
       "      <td>63</td>\n",
       "      <td>18</td>\n",
       "      <td>9171</td>\n",
       "      <td>2816</td>\n",
       "      <td>1340</td>\n",
       "      <td>683</td>\n",
       "      <td>330</td>\n",
       "      <td>82</td>\n",
       "      <td>5</td>\n",
       "    </tr>\n",
       "    <tr>\n",
       "      <th>2560</th>\n",
       "      <td>1</td>\n",
       "      <td>590</td>\n",
       "      <td>289866</td>\n",
       "      <td>228522</td>\n",
       "      <td>50623</td>\n",
       "      <td>123.93</td>\n",
       "      <td>58.48</td>\n",
       "      <td>42.82</td>\n",
       "      <td>25.34</td>\n",
       "      <td>95.91</td>\n",
       "      <td>...</td>\n",
       "      <td>334</td>\n",
       "      <td>128</td>\n",
       "      <td>79</td>\n",
       "      <td>15502</td>\n",
       "      <td>4665</td>\n",
       "      <td>1858</td>\n",
       "      <td>932</td>\n",
       "      <td>563</td>\n",
       "      <td>199</td>\n",
       "      <td>24</td>\n",
       "    </tr>\n",
       "    <tr>\n",
       "      <th>2561</th>\n",
       "      <td>1</td>\n",
       "      <td>610</td>\n",
       "      <td>230566</td>\n",
       "      <td>177835</td>\n",
       "      <td>37347</td>\n",
       "      <td>144.65</td>\n",
       "      <td>67.82</td>\n",
       "      <td>48.45</td>\n",
       "      <td>26.13</td>\n",
       "      <td>92.32</td>\n",
       "      <td>...</td>\n",
       "      <td>243</td>\n",
       "      <td>113</td>\n",
       "      <td>36</td>\n",
       "      <td>7348</td>\n",
       "      <td>2944</td>\n",
       "      <td>1649</td>\n",
       "      <td>979</td>\n",
       "      <td>582</td>\n",
       "      <td>320</td>\n",
       "      <td>52</td>\n",
       "    </tr>\n",
       "    <tr>\n",
       "      <th>2562</th>\n",
       "      <td>1</td>\n",
       "      <td>430</td>\n",
       "      <td>215585</td>\n",
       "      <td>163251</td>\n",
       "      <td>34493</td>\n",
       "      <td>144.06</td>\n",
       "      <td>66.90</td>\n",
       "      <td>49.05</td>\n",
       "      <td>29.68</td>\n",
       "      <td>90.81</td>\n",
       "      <td>...</td>\n",
       "      <td>359</td>\n",
       "      <td>141</td>\n",
       "      <td>49</td>\n",
       "      <td>7708</td>\n",
       "      <td>2754</td>\n",
       "      <td>1270</td>\n",
       "      <td>730</td>\n",
       "      <td>429</td>\n",
       "      <td>129</td>\n",
       "      <td>4</td>\n",
       "    </tr>\n",
       "    <tr>\n",
       "      <th>2563</th>\n",
       "      <td>1</td>\n",
       "      <td>400</td>\n",
       "      <td>202341</td>\n",
       "      <td>150694</td>\n",
       "      <td>33147</td>\n",
       "      <td>147.50</td>\n",
       "      <td>63.43</td>\n",
       "      <td>62.90</td>\n",
       "      <td>38.08</td>\n",
       "      <td>98.21</td>\n",
       "      <td>...</td>\n",
       "      <td>937</td>\n",
       "      <td>677</td>\n",
       "      <td>375</td>\n",
       "      <td>9341</td>\n",
       "      <td>3381</td>\n",
       "      <td>1567</td>\n",
       "      <td>880</td>\n",
       "      <td>475</td>\n",
       "      <td>114</td>\n",
       "      <td>10</td>\n",
       "    </tr>\n",
       "  </tbody>\n",
       "</table>\n",
       "<p>9 rows × 34 columns</p>\n",
       "</div>"
      ],
      "text/plain": [
       "      Round  Quota   GAT_N  PAT1_N  PAT3_N  GAT_avg  GAT_std  PAT1_avg  \\\n",
       "Year                                                                     \n",
       "2555      1    800  284735  200693   39488   130.59    68.04     39.64   \n",
       "2556      1    800  323876  243834   51235   114.30    60.63     40.61   \n",
       "2557      1    600  237419  173708   35302   143.58    61.60     57.40   \n",
       "2558      1    610  316791  239345   49776   131.97    63.81     51.56   \n",
       "2559      1    610  324856  253213   57879   115.66    58.73     52.61   \n",
       "2560      1    590  289866  228522   50623   123.93    58.48     42.82   \n",
       "2561      1    610  230566  177835   37347   144.65    67.82     48.45   \n",
       "2562      1    430  215585  163251   34493   144.06    66.90     49.05   \n",
       "2563      1    400  202341  150694   33147   147.50    63.43     62.90   \n",
       "\n",
       "      PAT1_std  PAT3_avg  ...  PAT1_210  PAT1_240  PAT1_270  PAT3_90  \\\n",
       "Year                      ...                                          \n",
       "2555     20.07     83.45  ...        73        22         4     7622   \n",
       "2556     20.96     91.11  ...       128        29        14     9958   \n",
       "2557     24.13     99.40  ...        98        25         8    11207   \n",
       "2558     18.85     93.41  ...        42        18         3    11124   \n",
       "2559     21.64     80.66  ...       164        63        18     9171   \n",
       "2560     25.34     95.91  ...       334       128        79    15502   \n",
       "2561     26.13     92.32  ...       243       113        36     7348   \n",
       "2562     29.68     90.81  ...       359       141        49     7708   \n",
       "2563     38.08     98.21  ...       937       677       375     9341   \n",
       "\n",
       "      PAT3_120  PAT3_150  PAT3_180  PAT3_210  PAT3_240  PAT3_270  \n",
       "Year                                                              \n",
       "2555      2512      1097       505       176        28         0  \n",
       "2556      4463      2305      1337       767       298         8  \n",
       "2557      3976      1803       808       415       135        13  \n",
       "2558      4429      2079      1193       686       330        35  \n",
       "2559      2816      1340       683       330        82         5  \n",
       "2560      4665      1858       932       563       199        24  \n",
       "2561      2944      1649       979       582       320        52  \n",
       "2562      2754      1270       730       429       129         4  \n",
       "2563      3381      1567       880       475       114        10  \n",
       "\n",
       "[9 rows x 34 columns]"
      ]
     },
     "execution_count": 5,
     "metadata": {},
     "output_type": "execute_result"
    }
   ],
   "source": [
    "X"
   ]
  },
  {
   "cell_type": "code",
   "execution_count": 6,
   "metadata": {},
   "outputs": [
    {
     "data": {
      "text/html": [
       "<div>\n",
       "<style scoped>\n",
       "    .dataframe tbody tr th:only-of-type {\n",
       "        vertical-align: middle;\n",
       "    }\n",
       "\n",
       "    .dataframe tbody tr th {\n",
       "        vertical-align: top;\n",
       "    }\n",
       "\n",
       "    .dataframe thead th {\n",
       "        text-align: right;\n",
       "    }\n",
       "</style>\n",
       "<table border=\"1\" class=\"dataframe\">\n",
       "  <thead>\n",
       "    <tr style=\"text-align: right;\">\n",
       "      <th></th>\n",
       "      <th>CU_R3_Min</th>\n",
       "    </tr>\n",
       "    <tr>\n",
       "      <th>Year</th>\n",
       "      <th></th>\n",
       "    </tr>\n",
       "  </thead>\n",
       "  <tbody>\n",
       "    <tr>\n",
       "      <th>2555</th>\n",
       "      <td>16465.0</td>\n",
       "    </tr>\n",
       "    <tr>\n",
       "      <th>2556</th>\n",
       "      <td>19100.0</td>\n",
       "    </tr>\n",
       "    <tr>\n",
       "      <th>2557</th>\n",
       "      <td>18552.0</td>\n",
       "    </tr>\n",
       "    <tr>\n",
       "      <th>2558</th>\n",
       "      <td>19090.0</td>\n",
       "    </tr>\n",
       "    <tr>\n",
       "      <th>2559</th>\n",
       "      <td>17510.0</td>\n",
       "    </tr>\n",
       "    <tr>\n",
       "      <th>2560</th>\n",
       "      <td>18870.0</td>\n",
       "    </tr>\n",
       "    <tr>\n",
       "      <th>2561</th>\n",
       "      <td>18880.0</td>\n",
       "    </tr>\n",
       "    <tr>\n",
       "      <th>2562</th>\n",
       "      <td>18360.0</td>\n",
       "    </tr>\n",
       "    <tr>\n",
       "      <th>2563</th>\n",
       "      <td>NaN</td>\n",
       "    </tr>\n",
       "  </tbody>\n",
       "</table>\n",
       "</div>"
      ],
      "text/plain": [
       "      CU_R3_Min\n",
       "Year           \n",
       "2555    16465.0\n",
       "2556    19100.0\n",
       "2557    18552.0\n",
       "2558    19090.0\n",
       "2559    17510.0\n",
       "2560    18870.0\n",
       "2561    18880.0\n",
       "2562    18360.0\n",
       "2563        NaN"
      ]
     },
     "execution_count": 6,
     "metadata": {},
     "output_type": "execute_result"
    }
   ],
   "source": [
    "y"
   ]
  },
  {
   "cell_type": "markdown",
   "metadata": {},
   "source": [
    "# Exploratory Data Analysis\n",
    "\n",
    "- ดูแนวโน้มค่าเฉลี่ยคะแนนรวมถ่วงน้ำหนักที่คิดจาก GAT 20%, PAT1 20% และ PAT3 60% ของปี 55-63 (ไม่เอาปี 53-54 เพราะใช้คนละเกณฑ์) เทียบคะแนนต่ำสุดที่ติดวิศวะ จุฬา TCAS รอบ 3 (รับตรง)\n",
    "- วิเคราะห์คะแนนของคนที่ได้ GAT 150up, PAT1 Top 1500 และ PAT3 Top 1000 (สมมติฐานคะแนนของกลุ่มคนที่มีลุ้นสอบติดวิศวะ จุฬา)"
   ]
  },
  {
   "cell_type": "code",
   "execution_count": 7,
   "metadata": {},
   "outputs": [],
   "source": [
    "import seaborn as sns\n",
    "import matplotlib.pyplot as plt\n",
    "%matplotlib inline"
   ]
  },
  {
   "cell_type": "markdown",
   "metadata": {},
   "source": [
    "## แนวโน้มค่าเฉลี่ยคะแนน"
   ]
  },
  {
   "cell_type": "code",
   "execution_count": 8,
   "metadata": {
    "scrolled": true
   },
   "outputs": [
    {
     "data": {
      "image/png": "[encoded data removed]",
      "text/plain": [
       "<Figure size 432x288 with 1 Axes>"
      ]
     },
     "metadata": {
      "needs_background": "light"
     },
     "output_type": "display_data"
    }
   ],
   "source": [
    "plt.plot(y.index, y.CU_R3_Min, y.index, X.Total_avg)\n",
    "plt.errorbar(y.index, X.Total_avg, yerr=X.Total_std, fmt='r^')\n",
    "plt.xlabel('Year')\n",
    "plt.ylabel('Scores')\n",
    "plt.legend(['Minimum Score','Combined Average Score'])\n",
    "plt.title('Minimum admitted scores and combined average scores')\n",
    "plt.show()"
   ]
  },
  {
   "cell_type": "markdown",
   "metadata": {},
   "source": [
    "เราจะเห็นว่า ค่าเฉลี่ยของคะแนน ไม่ใช่ตัวทำนายที่ดีนัก เพราะแนวโน้มไม่ได้สอดคล้องกับคะแนนต่ำสุดที่ติดวิศวะจุฬาจริง และยังมีส่วนเบี่ยงเบนมาตรฐานที่ใหญ่มากอีกด้วย"
   ]
  },
  {
   "cell_type": "markdown",
   "metadata": {},
   "source": [
    "## แนวโน้มคะแนนของกลุ่มคะแนนมีโอกาสสอบติดจริง\n",
    "สมมติฐาน: น้องที่จะสอบติดวิศวะจุฬา คือกลุ่มที่ได้คะแนนค่อนข้างสูง กล่าวคือ\n",
    "- GAT > 150\n",
    "- PAT1 Top 1500 และ Top 2000 (อาจมีหลายคน ไปยื่นหมอ)\n",
    "- PAT3 Top 1000 และ Top 800\n",
    "\n",
    "ดังนั้น เราจะเอาค่าสถิติของคนกลุ่มนี้ มาวิเคราะห์ดูแนวโน้ม"
   ]
  },
  {
   "cell_type": "code",
   "execution_count": 9,
   "metadata": {},
   "outputs": [],
   "source": [
    "MAX_SCORE = 300\n",
    "SCORE_BIN = 30\n",
    "\n",
    "def get_top(X_range, exam_name, top_N=1000):\n",
    "    ''' A method to get the (approximate) score of top_N'th student\n",
    "    INPUT : X_range (DataFrame) - Score range dataframe of a single year\n",
    "            exam_name (str) - name of interested exam\n",
    "            top_N - the interested rank\n",
    "    OUTPUT: top_N_score (float) - the score of rank top_N\n",
    "    '''\n",
    "    current_rank = 0\n",
    "    current_range = MAX_SCORE - SCORE_BIN\n",
    "    while True:\n",
    "        N_stu = X_range[exam_name+'_'+str(current_range)] #Number of students in this score range\n",
    "        if (current_rank + N_stu) < top_N:\n",
    "            current_rank += N_stu\n",
    "            current_range -= SCORE_BIN\n",
    "        else:\n",
    "            top_N_score = current_range + SCORE_BIN*((current_rank + N_stu) - top_N)/N_stu\n",
    "            return top_N_score"
   ]
  },
  {
   "cell_type": "code",
   "execution_count": 10,
   "metadata": {},
   "outputs": [],
   "source": [
    "X['PAT1_top1500'] = X.apply(lambda row: get_top(row, 'PAT1', top_N=1500), axis=1)\n",
    "X['PAT3_top1000'] = X.apply(lambda row: get_top(row, 'PAT3', top_N=1000), axis=1)"
   ]
  },
  {
   "cell_type": "code",
   "execution_count": 11,
   "metadata": {},
   "outputs": [],
   "source": [
    "X['PAT1_top2000'] = X.apply(lambda row: get_top(row, 'PAT1', top_N=2000), axis=1)\n",
    "X['PAT3_top800'] = X.apply(lambda row: get_top(row, 'PAT3', top_N=800), axis=1)"
   ]
  },
  {
   "cell_type": "code",
   "execution_count": 12,
   "metadata": {
    "scrolled": true
   },
   "outputs": [
    {
     "data": {
      "text/html": [
       "<div>\n",
       "<style scoped>\n",
       "    .dataframe tbody tr th:only-of-type {\n",
       "        vertical-align: middle;\n",
       "    }\n",
       "\n",
       "    .dataframe tbody tr th {\n",
       "        vertical-align: top;\n",
       "    }\n",
       "\n",
       "    .dataframe thead th {\n",
       "        text-align: right;\n",
       "    }\n",
       "</style>\n",
       "<table border=\"1\" class=\"dataframe\">\n",
       "  <thead>\n",
       "    <tr style=\"text-align: right;\">\n",
       "      <th></th>\n",
       "      <th>Round</th>\n",
       "      <th>Quota</th>\n",
       "      <th>GAT_N</th>\n",
       "      <th>PAT1_N</th>\n",
       "      <th>PAT3_N</th>\n",
       "      <th>GAT_avg</th>\n",
       "      <th>GAT_std</th>\n",
       "      <th>PAT1_avg</th>\n",
       "      <th>PAT1_std</th>\n",
       "      <th>PAT3_avg</th>\n",
       "      <th>...</th>\n",
       "      <th>PAT3_120</th>\n",
       "      <th>PAT3_150</th>\n",
       "      <th>PAT3_180</th>\n",
       "      <th>PAT3_210</th>\n",
       "      <th>PAT3_240</th>\n",
       "      <th>PAT3_270</th>\n",
       "      <th>PAT1_top1500</th>\n",
       "      <th>PAT3_top1000</th>\n",
       "      <th>PAT1_top2000</th>\n",
       "      <th>PAT3_top800</th>\n",
       "    </tr>\n",
       "    <tr>\n",
       "      <th>Year</th>\n",
       "      <th></th>\n",
       "      <th></th>\n",
       "      <th></th>\n",
       "      <th></th>\n",
       "      <th></th>\n",
       "      <th></th>\n",
       "      <th></th>\n",
       "      <th></th>\n",
       "      <th></th>\n",
       "      <th></th>\n",
       "      <th></th>\n",
       "      <th></th>\n",
       "      <th></th>\n",
       "      <th></th>\n",
       "      <th></th>\n",
       "      <th></th>\n",
       "      <th></th>\n",
       "      <th></th>\n",
       "      <th></th>\n",
       "      <th></th>\n",
       "      <th></th>\n",
       "    </tr>\n",
       "  </thead>\n",
       "  <tbody>\n",
       "    <tr>\n",
       "      <th>2555</th>\n",
       "      <td>1</td>\n",
       "      <td>800</td>\n",
       "      <td>284735</td>\n",
       "      <td>200693</td>\n",
       "      <td>39488</td>\n",
       "      <td>130.59</td>\n",
       "      <td>68.04</td>\n",
       "      <td>39.64</td>\n",
       "      <td>20.07</td>\n",
       "      <td>83.45</td>\n",
       "      <td>...</td>\n",
       "      <td>2512</td>\n",
       "      <td>1097</td>\n",
       "      <td>505</td>\n",
       "      <td>176</td>\n",
       "      <td>28</td>\n",
       "      <td>0</td>\n",
       "      <td>134.681373</td>\n",
       "      <td>172.041933</td>\n",
       "      <td>122.426471</td>\n",
       "      <td>177.511395</td>\n",
       "    </tr>\n",
       "    <tr>\n",
       "      <th>2556</th>\n",
       "      <td>1</td>\n",
       "      <td>800</td>\n",
       "      <td>323876</td>\n",
       "      <td>243834</td>\n",
       "      <td>51235</td>\n",
       "      <td>114.30</td>\n",
       "      <td>60.63</td>\n",
       "      <td>40.61</td>\n",
       "      <td>20.96</td>\n",
       "      <td>91.11</td>\n",
       "      <td>...</td>\n",
       "      <td>4463</td>\n",
       "      <td>2305</td>\n",
       "      <td>1337</td>\n",
       "      <td>767</td>\n",
       "      <td>298</td>\n",
       "      <td>8</td>\n",
       "      <td>144.256541</td>\n",
       "      <td>212.855280</td>\n",
       "      <td>134.684110</td>\n",
       "      <td>220.677966</td>\n",
       "    </tr>\n",
       "    <tr>\n",
       "      <th>2557</th>\n",
       "      <td>1</td>\n",
       "      <td>600</td>\n",
       "      <td>237419</td>\n",
       "      <td>173708</td>\n",
       "      <td>35302</td>\n",
       "      <td>143.58</td>\n",
       "      <td>61.60</td>\n",
       "      <td>57.40</td>\n",
       "      <td>24.13</td>\n",
       "      <td>99.40</td>\n",
       "      <td>...</td>\n",
       "      <td>3976</td>\n",
       "      <td>1803</td>\n",
       "      <td>808</td>\n",
       "      <td>415</td>\n",
       "      <td>135</td>\n",
       "      <td>13</td>\n",
       "      <td>151.986755</td>\n",
       "      <td>193.774752</td>\n",
       "      <td>145.188363</td>\n",
       "      <td>201.200495</td>\n",
       "    </tr>\n",
       "    <tr>\n",
       "      <th>2558</th>\n",
       "      <td>1</td>\n",
       "      <td>610</td>\n",
       "      <td>316791</td>\n",
       "      <td>239345</td>\n",
       "      <td>49776</td>\n",
       "      <td>131.97</td>\n",
       "      <td>63.81</td>\n",
       "      <td>51.56</td>\n",
       "      <td>18.85</td>\n",
       "      <td>93.41</td>\n",
       "      <td>...</td>\n",
       "      <td>4429</td>\n",
       "      <td>2079</td>\n",
       "      <td>1193</td>\n",
       "      <td>686</td>\n",
       "      <td>330</td>\n",
       "      <td>35</td>\n",
       "      <td>127.267241</td>\n",
       "      <td>212.230321</td>\n",
       "      <td>118.688099</td>\n",
       "      <td>220.976676</td>\n",
       "    </tr>\n",
       "    <tr>\n",
       "      <th>2559</th>\n",
       "      <td>1</td>\n",
       "      <td>610</td>\n",
       "      <td>324856</td>\n",
       "      <td>253213</td>\n",
       "      <td>57879</td>\n",
       "      <td>115.66</td>\n",
       "      <td>58.73</td>\n",
       "      <td>52.61</td>\n",
       "      <td>21.64</td>\n",
       "      <td>80.66</td>\n",
       "      <td>...</td>\n",
       "      <td>2816</td>\n",
       "      <td>1340</td>\n",
       "      <td>683</td>\n",
       "      <td>330</td>\n",
       "      <td>82</td>\n",
       "      <td>5</td>\n",
       "      <td>152.142857</td>\n",
       "      <td>184.392387</td>\n",
       "      <td>144.111514</td>\n",
       "      <td>193.177160</td>\n",
       "    </tr>\n",
       "  </tbody>\n",
       "</table>\n",
       "<p>5 rows × 38 columns</p>\n",
       "</div>"
      ],
      "text/plain": [
       "      Round  Quota   GAT_N  PAT1_N  PAT3_N  GAT_avg  GAT_std  PAT1_avg  \\\n",
       "Year                                                                     \n",
       "2555      1    800  284735  200693   39488   130.59    68.04     39.64   \n",
       "2556      1    800  323876  243834   51235   114.30    60.63     40.61   \n",
       "2557      1    600  237419  173708   35302   143.58    61.60     57.40   \n",
       "2558      1    610  316791  239345   49776   131.97    63.81     51.56   \n",
       "2559      1    610  324856  253213   57879   115.66    58.73     52.61   \n",
       "\n",
       "      PAT1_std  PAT3_avg  ...  PAT3_120  PAT3_150  PAT3_180  PAT3_210  \\\n",
       "Year                      ...                                           \n",
       "2555     20.07     83.45  ...      2512      1097       505       176   \n",
       "2556     20.96     91.11  ...      4463      2305      1337       767   \n",
       "2557     24.13     99.40  ...      3976      1803       808       415   \n",
       "2558     18.85     93.41  ...      4429      2079      1193       686   \n",
       "2559     21.64     80.66  ...      2816      1340       683       330   \n",
       "\n",
       "      PAT3_240  PAT3_270  PAT1_top1500  PAT3_top1000  PAT1_top2000  \\\n",
       "Year                                                                 \n",
       "2555        28         0    134.681373    172.041933    122.426471   \n",
       "2556       298         8    144.256541    212.855280    134.684110   \n",
       "2557       135        13    151.986755    193.774752    145.188363   \n",
       "2558       330        35    127.267241    212.230321    118.688099   \n",
       "2559        82         5    152.142857    184.392387    144.111514   \n",
       "\n",
       "      PAT3_top800  \n",
       "Year               \n",
       "2555   177.511395  \n",
       "2556   220.677966  \n",
       "2557   201.200495  \n",
       "2558   220.976676  \n",
       "2559   193.177160  \n",
       "\n",
       "[5 rows x 38 columns]"
      ]
     },
     "execution_count": 12,
     "metadata": {},
     "output_type": "execute_result"
    }
   ],
   "source": [
    "X.head()"
   ]
  },
  {
   "cell_type": "code",
   "execution_count": 13,
   "metadata": {},
   "outputs": [],
   "source": [
    "def get_weighted_avg(X_range, exam_name, limit_score=150):\n",
    "    ''' A method to get the weighted average score given a min score\n",
    "    INPUT : X_range (DataFrame) - Score range dataframe of a single year\n",
    "            exam_name (str) - - name of interested exam\n",
    "            min_score (int) - the lower bound of interested range, MUST be in [90,120,150,180,210,240,270]\n",
    "    OUTPUT: weighted_score (float) - the weighted score above the limit_score\n",
    "            total_students (int) - number of students above the limit_score\n",
    "    '''\n",
    "    score_ranges = np.arange(limit_score, MAX_SCORE, SCORE_BIN).astype(int)\n",
    "    grand_total = 0\n",
    "    total_students = 0\n",
    "    for current_range in score_ranges:\n",
    "        grand_total += X_range[exam_name+'_'+str(current_range)]*(current_range + 0.5*SCORE_BIN)\n",
    "        total_students += X_range[exam_name+'_'+str(current_range)]\n",
    "    \n",
    "    weighted_score = grand_total/total_students\n",
    "    return weighted_score, int(total_students)"
   ]
  },
  {
   "cell_type": "code",
   "execution_count": 14,
   "metadata": {},
   "outputs": [],
   "source": [
    "X['GAT_150up_avg'], X['GAT_150up_N'] = zip(*X.apply(lambda row: get_weighted_avg(row, 'GAT', limit_score=150), axis=1))\n",
    "X['PAT1_120up_avg'], X['PAT1_120up_N'] = zip(*X.apply(lambda row: get_weighted_avg(row, 'PAT1', limit_score=120), axis=1))\n",
    "X['PAT3_150up_avg'], X['PAT3_150up_N'] = zip(*X.apply(lambda row: get_weighted_avg(row, 'PAT3', limit_score=150), axis=1))"
   ]
  },
  {
   "cell_type": "code",
   "execution_count": 15,
   "metadata": {},
   "outputs": [],
   "source": [
    "X['PAT1_150up_avg'], X['PAT1_150up_N'] = zip(*X.apply(lambda row: get_weighted_avg(row, 'PAT1', limit_score=120), axis=1))"
   ]
  },
  {
   "cell_type": "code",
   "execution_count": 16,
   "metadata": {
    "scrolled": false
   },
   "outputs": [
    {
     "data": {
      "text/html": [
       "<div>\n",
       "<style scoped>\n",
       "    .dataframe tbody tr th:only-of-type {\n",
       "        vertical-align: middle;\n",
       "    }\n",
       "\n",
       "    .dataframe tbody tr th {\n",
       "        vertical-align: top;\n",
       "    }\n",
       "\n",
       "    .dataframe thead th {\n",
       "        text-align: right;\n",
       "    }\n",
       "</style>\n",
       "<table border=\"1\" class=\"dataframe\">\n",
       "  <thead>\n",
       "    <tr style=\"text-align: right;\">\n",
       "      <th></th>\n",
       "      <th>Round</th>\n",
       "      <th>Quota</th>\n",
       "      <th>GAT_N</th>\n",
       "      <th>PAT1_N</th>\n",
       "      <th>PAT3_N</th>\n",
       "      <th>GAT_avg</th>\n",
       "      <th>GAT_std</th>\n",
       "      <th>PAT1_avg</th>\n",
       "      <th>PAT1_std</th>\n",
       "      <th>PAT3_avg</th>\n",
       "      <th>...</th>\n",
       "      <th>PAT1_top2000</th>\n",
       "      <th>PAT3_top800</th>\n",
       "      <th>GAT_150up_avg</th>\n",
       "      <th>GAT_150up_N</th>\n",
       "      <th>PAT1_120up_avg</th>\n",
       "      <th>PAT1_120up_N</th>\n",
       "      <th>PAT3_150up_avg</th>\n",
       "      <th>PAT3_150up_N</th>\n",
       "      <th>PAT1_150up_avg</th>\n",
       "      <th>PAT1_150up_N</th>\n",
       "    </tr>\n",
       "    <tr>\n",
       "      <th>Year</th>\n",
       "      <th></th>\n",
       "      <th></th>\n",
       "      <th></th>\n",
       "      <th></th>\n",
       "      <th></th>\n",
       "      <th></th>\n",
       "      <th></th>\n",
       "      <th></th>\n",
       "      <th></th>\n",
       "      <th></th>\n",
       "      <th></th>\n",
       "      <th></th>\n",
       "      <th></th>\n",
       "      <th></th>\n",
       "      <th></th>\n",
       "      <th></th>\n",
       "      <th></th>\n",
       "      <th></th>\n",
       "      <th></th>\n",
       "      <th></th>\n",
       "      <th></th>\n",
       "    </tr>\n",
       "  </thead>\n",
       "  <tbody>\n",
       "    <tr>\n",
       "      <th>2555</th>\n",
       "      <td>1</td>\n",
       "      <td>800</td>\n",
       "      <td>284735</td>\n",
       "      <td>200693</td>\n",
       "      <td>39488</td>\n",
       "      <td>130.59</td>\n",
       "      <td>68.04</td>\n",
       "      <td>39.64</td>\n",
       "      <td>20.07</td>\n",
       "      <td>83.45</td>\n",
       "      <td>...</td>\n",
       "      <td>122.426471</td>\n",
       "      <td>177.511395</td>\n",
       "      <td>199.344316</td>\n",
       "      <td>120889</td>\n",
       "      <td>154.051929</td>\n",
       "      <td>2099</td>\n",
       "      <td>180.631229</td>\n",
       "      <td>1806</td>\n",
       "      <td>154.051929</td>\n",
       "      <td>2099</td>\n",
       "    </tr>\n",
       "    <tr>\n",
       "      <th>2556</th>\n",
       "      <td>1</td>\n",
       "      <td>800</td>\n",
       "      <td>323876</td>\n",
       "      <td>243834</td>\n",
       "      <td>51235</td>\n",
       "      <td>114.30</td>\n",
       "      <td>60.63</td>\n",
       "      <td>40.61</td>\n",
       "      <td>20.96</td>\n",
       "      <td>91.11</td>\n",
       "      <td>...</td>\n",
       "      <td>134.684110</td>\n",
       "      <td>220.677966</td>\n",
       "      <td>195.170167</td>\n",
       "      <td>150911</td>\n",
       "      <td>155.784243</td>\n",
       "      <td>2767</td>\n",
       "      <td>189.159067</td>\n",
       "      <td>4715</td>\n",
       "      <td>155.784243</td>\n",
       "      <td>2767</td>\n",
       "    </tr>\n",
       "    <tr>\n",
       "      <th>2557</th>\n",
       "      <td>1</td>\n",
       "      <td>600</td>\n",
       "      <td>237419</td>\n",
       "      <td>173708</td>\n",
       "      <td>35302</td>\n",
       "      <td>143.58</td>\n",
       "      <td>61.60</td>\n",
       "      <td>57.40</td>\n",
       "      <td>24.13</td>\n",
       "      <td>99.40</td>\n",
       "      <td>...</td>\n",
       "      <td>145.188363</td>\n",
       "      <td>201.200495</td>\n",
       "      <td>219.482108</td>\n",
       "      <td>203643</td>\n",
       "      <td>150.913903</td>\n",
       "      <td>4251</td>\n",
       "      <td>184.801512</td>\n",
       "      <td>3174</td>\n",
       "      <td>150.913903</td>\n",
       "      <td>4251</td>\n",
       "    </tr>\n",
       "    <tr>\n",
       "      <th>2558</th>\n",
       "      <td>1</td>\n",
       "      <td>610</td>\n",
       "      <td>316791</td>\n",
       "      <td>239345</td>\n",
       "      <td>49776</td>\n",
       "      <td>131.97</td>\n",
       "      <td>63.81</td>\n",
       "      <td>51.56</td>\n",
       "      <td>18.85</td>\n",
       "      <td>93.41</td>\n",
       "      <td>...</td>\n",
       "      <td>118.688099</td>\n",
       "      <td>220.976676</td>\n",
       "      <td>199.157137</td>\n",
       "      <td>127061</td>\n",
       "      <td>150.631668</td>\n",
       "      <td>1781</td>\n",
       "      <td>190.641915</td>\n",
       "      <td>4323</td>\n",
       "      <td>150.631668</td>\n",
       "      <td>1781</td>\n",
       "    </tr>\n",
       "    <tr>\n",
       "      <th>2559</th>\n",
       "      <td>1</td>\n",
       "      <td>610</td>\n",
       "      <td>324856</td>\n",
       "      <td>253213</td>\n",
       "      <td>57879</td>\n",
       "      <td>115.66</td>\n",
       "      <td>58.73</td>\n",
       "      <td>52.61</td>\n",
       "      <td>21.64</td>\n",
       "      <td>80.66</td>\n",
       "      <td>...</td>\n",
       "      <td>144.111514</td>\n",
       "      <td>193.177160</td>\n",
       "      <td>190.702771</td>\n",
       "      <td>94540</td>\n",
       "      <td>155.196130</td>\n",
       "      <td>3773</td>\n",
       "      <td>184.782787</td>\n",
       "      <td>2440</td>\n",
       "      <td>155.196130</td>\n",
       "      <td>3773</td>\n",
       "    </tr>\n",
       "    <tr>\n",
       "      <th>2560</th>\n",
       "      <td>1</td>\n",
       "      <td>590</td>\n",
       "      <td>289866</td>\n",
       "      <td>228522</td>\n",
       "      <td>50623</td>\n",
       "      <td>123.93</td>\n",
       "      <td>58.48</td>\n",
       "      <td>42.82</td>\n",
       "      <td>25.34</td>\n",
       "      <td>95.91</td>\n",
       "      <td>...</td>\n",
       "      <td>155.500945</td>\n",
       "      <td>209.549356</td>\n",
       "      <td>188.008617</td>\n",
       "      <td>106760</td>\n",
       "      <td>164.699929</td>\n",
       "      <td>4199</td>\n",
       "      <td>188.078859</td>\n",
       "      <td>3576</td>\n",
       "      <td>164.699929</td>\n",
       "      <td>4199</td>\n",
       "    </tr>\n",
       "    <tr>\n",
       "      <th>2561</th>\n",
       "      <td>1</td>\n",
       "      <td>610</td>\n",
       "      <td>230566</td>\n",
       "      <td>177835</td>\n",
       "      <td>37347</td>\n",
       "      <td>144.65</td>\n",
       "      <td>67.82</td>\n",
       "      <td>48.45</td>\n",
       "      <td>26.13</td>\n",
       "      <td>92.32</td>\n",
       "      <td>...</td>\n",
       "      <td>149.209431</td>\n",
       "      <td>217.938144</td>\n",
       "      <td>197.270479</td>\n",
       "      <td>126568</td>\n",
       "      <td>160.024355</td>\n",
       "      <td>4106</td>\n",
       "      <td>192.730318</td>\n",
       "      <td>3582</td>\n",
       "      <td>160.024355</td>\n",
       "      <td>4106</td>\n",
       "    </tr>\n",
       "    <tr>\n",
       "      <th>2562</th>\n",
       "      <td>1</td>\n",
       "      <td>430</td>\n",
       "      <td>215585</td>\n",
       "      <td>163251</td>\n",
       "      <td>34493</td>\n",
       "      <td>144.06</td>\n",
       "      <td>66.90</td>\n",
       "      <td>49.05</td>\n",
       "      <td>29.68</td>\n",
       "      <td>90.81</td>\n",
       "      <td>...</td>\n",
       "      <td>165.914267</td>\n",
       "      <td>200.219178</td>\n",
       "      <td>204.802894</td>\n",
       "      <td>101468</td>\n",
       "      <td>161.184258</td>\n",
       "      <td>5590</td>\n",
       "      <td>188.313817</td>\n",
       "      <td>2562</td>\n",
       "      <td>161.184258</td>\n",
       "      <td>5590</td>\n",
       "    </tr>\n",
       "    <tr>\n",
       "      <th>2563</th>\n",
       "      <td>1</td>\n",
       "      <td>400</td>\n",
       "      <td>202341</td>\n",
       "      <td>150694</td>\n",
       "      <td>33147</td>\n",
       "      <td>147.50</td>\n",
       "      <td>63.43</td>\n",
       "      <td>62.90</td>\n",
       "      <td>38.08</td>\n",
       "      <td>98.21</td>\n",
       "      <td>...</td>\n",
       "      <td>209.788462</td>\n",
       "      <td>203.147727</td>\n",
       "      <td>198.195965</td>\n",
       "      <td>106259</td>\n",
       "      <td>173.112528</td>\n",
       "      <td>10273</td>\n",
       "      <td>186.785949</td>\n",
       "      <td>3046</td>\n",
       "      <td>173.112528</td>\n",
       "      <td>10273</td>\n",
       "    </tr>\n",
       "  </tbody>\n",
       "</table>\n",
       "<p>9 rows × 46 columns</p>\n",
       "</div>"
      ],
      "text/plain": [
       "      Round  Quota   GAT_N  PAT1_N  PAT3_N  GAT_avg  GAT_std  PAT1_avg  \\\n",
       "Year                                                                     \n",
       "2555      1    800  284735  200693   39488   130.59    68.04     39.64   \n",
       "2556      1    800  323876  243834   51235   114.30    60.63     40.61   \n",
       "2557      1    600  237419  173708   35302   143.58    61.60     57.40   \n",
       "2558      1    610  316791  239345   49776   131.97    63.81     51.56   \n",
       "2559      1    610  324856  253213   57879   115.66    58.73     52.61   \n",
       "2560      1    590  289866  228522   50623   123.93    58.48     42.82   \n",
       "2561      1    610  230566  177835   37347   144.65    67.82     48.45   \n",
       "2562      1    430  215585  163251   34493   144.06    66.90     49.05   \n",
       "2563      1    400  202341  150694   33147   147.50    63.43     62.90   \n",
       "\n",
       "      PAT1_std  PAT3_avg  ...  PAT1_top2000  PAT3_top800  GAT_150up_avg  \\\n",
       "Year                      ...                                             \n",
       "2555     20.07     83.45  ...    122.426471   177.511395     199.344316   \n",
       "2556     20.96     91.11  ...    134.684110   220.677966     195.170167   \n",
       "2557     24.13     99.40  ...    145.188363   201.200495     219.482108   \n",
       "2558     18.85     93.41  ...    118.688099   220.976676     199.157137   \n",
       "2559     21.64     80.66  ...    144.111514   193.177160     190.702771   \n",
       "2560     25.34     95.91  ...    155.500945   209.549356     188.008617   \n",
       "2561     26.13     92.32  ...    149.209431   217.938144     197.270479   \n",
       "2562     29.68     90.81  ...    165.914267   200.219178     204.802894   \n",
       "2563     38.08     98.21  ...    209.788462   203.147727     198.195965   \n",
       "\n",
       "      GAT_150up_N  PAT1_120up_avg  PAT1_120up_N  PAT3_150up_avg  PAT3_150up_N  \\\n",
       "Year                                                                            \n",
       "2555       120889      154.051929          2099      180.631229          1806   \n",
       "2556       150911      155.784243          2767      189.159067          4715   \n",
       "2557       203643      150.913903          4251      184.801512          3174   \n",
       "2558       127061      150.631668          1781      190.641915          4323   \n",
       "2559        94540      155.196130          3773      184.782787          2440   \n",
       "2560       106760      164.699929          4199      188.078859          3576   \n",
       "2561       126568      160.024355          4106      192.730318          3582   \n",
       "2562       101468      161.184258          5590      188.313817          2562   \n",
       "2563       106259      173.112528         10273      186.785949          3046   \n",
       "\n",
       "      PAT1_150up_avg  PAT1_150up_N  \n",
       "Year                                \n",
       "2555      154.051929          2099  \n",
       "2556      155.784243          2767  \n",
       "2557      150.913903          4251  \n",
       "2558      150.631668          1781  \n",
       "2559      155.196130          3773  \n",
       "2560      164.699929          4199  \n",
       "2561      160.024355          4106  \n",
       "2562      161.184258          5590  \n",
       "2563      173.112528         10273  \n",
       "\n",
       "[9 rows x 46 columns]"
      ]
     },
     "execution_count": 16,
     "metadata": {},
     "output_type": "execute_result"
    }
   ],
   "source": [
    "X"
   ]
  },
  {
   "cell_type": "markdown",
   "metadata": {},
   "source": [
    "เราจะดูคะแนนรวม 2 แบบ ว่าแบบไหนสอดคล้อง Trend คะแนนต่ำสุดที่ติดมากกว่า\n",
    "- แบบ A: (20% GAT150up.avg + 20% PAT1top1500 + 60% PAT3top1000) \\* 100 (เต็ม 30000)\n",
    "- แบบ B: (20% GAT150up.avg + 20% PAT1.120up.avg + 60% PAT3.150up.avg) \\* 100 (เต็ม 30000)\n",
    "- แบบ C: (20% GAT150up.avg + 20% PAT1top2000 + 60% PAT3top800) \\* 100 (เต็ม 30000)"
   ]
  },
  {
   "cell_type": "code",
   "execution_count": 17,
   "metadata": {},
   "outputs": [],
   "source": [
    "X['Combined_A'] = (0.2*X['GAT_150up_avg'] + 0.2*X['PAT1_top1500'] + 0.6*X['PAT3_top1000'])*100\n",
    "X['Combined_B'] = (0.2*X['GAT_150up_avg'] + 0.2*X['PAT1_120up_avg'] + 0.6*X['PAT3_150up_avg'])*100\n",
    "X['Combined_C'] = (0.2*X['GAT_150up_avg'] + 0.2*X['PAT1_top2000'] + 0.6*X['PAT3_top800'])*100"
   ]
  },
  {
   "cell_type": "code",
   "execution_count": 18,
   "metadata": {},
   "outputs": [
    {
     "data": {
      "image/png": "[encoded data removed]",
      "text/plain": [
       "<Figure size 432x288 with 1 Axes>"
      ]
     },
     "metadata": {
      "needs_background": "light"
     },
     "output_type": "display_data"
    }
   ],
   "source": [
    "plt.plot(X.index, y.CU_R3_Min, X.index, X.Combined_A, X.index, X.Combined_B, X.index, X.Combined_C)\n",
    "plt.xlabel('Year')\n",
    "plt.ylabel('Scores')\n",
    "plt.legend(['Minimum Score','Combined A','Combined B','Combined C'])\n",
    "plt.title('Minimum admitted scores and different types of combined scores')\n",
    "plt.show()"
   ]
  },
  {
   "cell_type": "markdown",
   "metadata": {},
   "source": [
    "ข้อสังเกต\n",
    "- การคิดด้วยค่าเฉลี่ยถ่วงน้ำหนักอย่างเดียว (แบบ B) แทบใช้ในการทำนายไม่ได้เลย\n",
    "- การคิดแบบ A และ C ใช้ได้เกือบทุกปี ยกเว้นปี 2560 ที่มีปัญหา อาจเป็นเพราะปี 2560 มีคนคะแนนสูงมายื่นสมัครรับตรงวิศวะจุฬาเยอะ (แต่อาจมีสละสิทธิ์ทีหลัง)\n",
    "\n",
    "ด้วยเหตุนี้ เราจึงต้องลองให้ Learning Algorithms ช่วยหาโมเดลการตัดสินใจให้ เพราะ Exploratory Data Analysis ทำนายปี 2560 ยังไม่ดีนัก\n",
    "\n",
    "(แต่ถ้าเราเชื่อว่าเหตุการณ์แบบปี 2560 ที่คนคะแนนเยอะแห่มายื่นวิศวะ จะไม่เกิดขึ้นอีก เราสามารถทำนายเบื้องต้นได้ว่า คะแนนในปีนี้ จะสูงขึ้นกว่าปี 2561)"
   ]
  },
  {
   "cell_type": "code",
   "execution_count": 19,
   "metadata": {},
   "outputs": [
    {
     "data": {
      "text/plain": [
       "Index(['Round', 'Quota', 'GAT_N', 'PAT1_N', 'PAT3_N', 'GAT_avg', 'GAT_std',\n",
       "       'PAT1_avg', 'PAT1_std', 'PAT3_avg', 'PAT3_std', 'Total_avg',\n",
       "       'Total_std', 'GAT_90', 'GAT_120', 'GAT_150', 'GAT_180', 'GAT_210',\n",
       "       'GAT_240', 'GAT_270', 'PAT1_90', 'PAT1_120', 'PAT1_150', 'PAT1_180',\n",
       "       'PAT1_210', 'PAT1_240', 'PAT1_270', 'PAT3_90', 'PAT3_120', 'PAT3_150',\n",
       "       'PAT3_180', 'PAT3_210', 'PAT3_240', 'PAT3_270', 'PAT1_top1500',\n",
       "       'PAT3_top1000', 'PAT1_top2000', 'PAT3_top800', 'GAT_150up_avg',\n",
       "       'GAT_150up_N', 'PAT1_120up_avg', 'PAT1_120up_N', 'PAT3_150up_avg',\n",
       "       'PAT3_150up_N', 'PAT1_150up_avg', 'PAT1_150up_N', 'Combined_A',\n",
       "       'Combined_B', 'Combined_C'],\n",
       "      dtype='object')"
      ]
     },
     "execution_count": 19,
     "metadata": {},
     "output_type": "execute_result"
    }
   ],
   "source": [
    "X.columns"
   ]
  },
  {
   "cell_type": "markdown",
   "metadata": {},
   "source": [
    "## Data Preprocessing and Feature Engineering\n",
    "ในส่วนนี้ เราจะมาเตรียม data ให้พร้อมสำหรับโมเดล Machine Learning และเลือก Feature ที่คาดว่าจะทำให้ทำนายผลได้แม่นยำขึ้น\n",
    "\n",
    "รายการ Features\n",
    "- `PAT3_150up_N` จำนวนคนได้ PAT3 เกิน 150\n",
    "- `Combined_A` คะแนน (0.2\\*GAT_150up_avg + 0.2\\*PAT1_top1500 + 0.6\\*PAT3_top1000)\\*100"
   ]
  },
  {
   "cell_type": "code",
   "execution_count": 20,
   "metadata": {},
   "outputs": [],
   "source": [
    "selected_features = ['PAT3_150up_N', 'Combined_A']"
   ]
  },
  {
   "cell_type": "code",
   "execution_count": 21,
   "metadata": {},
   "outputs": [],
   "source": [
    "X_selected = X[selected_features]"
   ]
  },
  {
   "cell_type": "code",
   "execution_count": 22,
   "metadata": {},
   "outputs": [
    {
     "data": {
      "text/html": [
       "<div>\n",
       "<style scoped>\n",
       "    .dataframe tbody tr th:only-of-type {\n",
       "        vertical-align: middle;\n",
       "    }\n",
       "\n",
       "    .dataframe tbody tr th {\n",
       "        vertical-align: top;\n",
       "    }\n",
       "\n",
       "    .dataframe thead th {\n",
       "        text-align: right;\n",
       "    }\n",
       "</style>\n",
       "<table border=\"1\" class=\"dataframe\">\n",
       "  <thead>\n",
       "    <tr style=\"text-align: right;\">\n",
       "      <th></th>\n",
       "      <th>PAT3_150up_N</th>\n",
       "      <th>Combined_A</th>\n",
       "    </tr>\n",
       "    <tr>\n",
       "      <th>Year</th>\n",
       "      <th></th>\n",
       "      <th></th>\n",
       "    </tr>\n",
       "  </thead>\n",
       "  <tbody>\n",
       "    <tr>\n",
       "      <th>2555</th>\n",
       "      <td>1806</td>\n",
       "      <td>17003.029721</td>\n",
       "    </tr>\n",
       "    <tr>\n",
       "      <th>2556</th>\n",
       "      <td>4715</td>\n",
       "      <td>19559.850972</td>\n",
       "    </tr>\n",
       "    <tr>\n",
       "      <th>2557</th>\n",
       "      <td>3174</td>\n",
       "      <td>19055.862416</td>\n",
       "    </tr>\n",
       "    <tr>\n",
       "      <th>2558</th>\n",
       "      <td>4323</td>\n",
       "      <td>19262.306812</td>\n",
       "    </tr>\n",
       "    <tr>\n",
       "      <th>2559</th>\n",
       "      <td>2440</td>\n",
       "      <td>17920.455761</td>\n",
       "    </tr>\n",
       "    <tr>\n",
       "      <th>2560</th>\n",
       "      <td>3576</td>\n",
       "      <td>19340.440407</td>\n",
       "    </tr>\n",
       "    <tr>\n",
       "      <th>2561</th>\n",
       "      <td>3582</td>\n",
       "      <td>19716.902848</td>\n",
       "    </tr>\n",
       "    <tr>\n",
       "      <th>2562</th>\n",
       "      <td>2562</td>\n",
       "      <td>19135.280911</td>\n",
       "    </tr>\n",
       "    <tr>\n",
       "      <th>2563</th>\n",
       "      <td>3046</td>\n",
       "      <td>20256.819020</td>\n",
       "    </tr>\n",
       "  </tbody>\n",
       "</table>\n",
       "</div>"
      ],
      "text/plain": [
       "      PAT3_150up_N    Combined_A\n",
       "Year                            \n",
       "2555          1806  17003.029721\n",
       "2556          4715  19559.850972\n",
       "2557          3174  19055.862416\n",
       "2558          4323  19262.306812\n",
       "2559          2440  17920.455761\n",
       "2560          3576  19340.440407\n",
       "2561          3582  19716.902848\n",
       "2562          2562  19135.280911\n",
       "2563          3046  20256.819020"
      ]
     },
     "execution_count": 22,
     "metadata": {},
     "output_type": "execute_result"
    }
   ],
   "source": [
    "X_selected"
   ]
  },
  {
   "cell_type": "code",
   "execution_count": 23,
   "metadata": {},
   "outputs": [],
   "source": [
    "X_standardized = (X_selected - X_selected.mean())/(X_selected.std())"
   ]
  },
  {
   "cell_type": "code",
   "execution_count": 24,
   "metadata": {
    "scrolled": false
   },
   "outputs": [
    {
     "data": {
      "text/html": [
       "<div>\n",
       "<style scoped>\n",
       "    .dataframe tbody tr th:only-of-type {\n",
       "        vertical-align: middle;\n",
       "    }\n",
       "\n",
       "    .dataframe tbody tr th {\n",
       "        vertical-align: top;\n",
       "    }\n",
       "\n",
       "    .dataframe thead th {\n",
       "        text-align: right;\n",
       "    }\n",
       "</style>\n",
       "<table border=\"1\" class=\"dataframe\">\n",
       "  <thead>\n",
       "    <tr style=\"text-align: right;\">\n",
       "      <th></th>\n",
       "      <th>PAT3_150up_N</th>\n",
       "      <th>Combined_A</th>\n",
       "    </tr>\n",
       "    <tr>\n",
       "      <th>Year</th>\n",
       "      <th></th>\n",
       "      <th></th>\n",
       "    </tr>\n",
       "  </thead>\n",
       "  <tbody>\n",
       "    <tr>\n",
       "      <th>2555</th>\n",
       "      <td>-1.565876</td>\n",
       "      <td>-2.056005</td>\n",
       "    </tr>\n",
       "    <tr>\n",
       "      <th>2556</th>\n",
       "      <td>1.594972</td>\n",
       "      <td>0.540152</td>\n",
       "    </tr>\n",
       "    <tr>\n",
       "      <th>2557</th>\n",
       "      <td>-0.079441</td>\n",
       "      <td>0.028410</td>\n",
       "    </tr>\n",
       "    <tr>\n",
       "      <th>2558</th>\n",
       "      <td>1.169034</td>\n",
       "      <td>0.238030</td>\n",
       "    </tr>\n",
       "    <tr>\n",
       "      <th>2559</th>\n",
       "      <td>-0.876987</td>\n",
       "      <td>-1.124465</td>\n",
       "    </tr>\n",
       "    <tr>\n",
       "      <th>2560</th>\n",
       "      <td>0.357363</td>\n",
       "      <td>0.317366</td>\n",
       "    </tr>\n",
       "    <tr>\n",
       "      <th>2561</th>\n",
       "      <td>0.363882</td>\n",
       "      <td>0.699620</td>\n",
       "    </tr>\n",
       "    <tr>\n",
       "      <th>2562</th>\n",
       "      <td>-0.744425</td>\n",
       "      <td>0.109050</td>\n",
       "    </tr>\n",
       "    <tr>\n",
       "      <th>2563</th>\n",
       "      <td>-0.218522</td>\n",
       "      <td>1.247843</td>\n",
       "    </tr>\n",
       "  </tbody>\n",
       "</table>\n",
       "</div>"
      ],
      "text/plain": [
       "      PAT3_150up_N  Combined_A\n",
       "Year                          \n",
       "2555     -1.565876   -2.056005\n",
       "2556      1.594972    0.540152\n",
       "2557     -0.079441    0.028410\n",
       "2558      1.169034    0.238030\n",
       "2559     -0.876987   -1.124465\n",
       "2560      0.357363    0.317366\n",
       "2561      0.363882    0.699620\n",
       "2562     -0.744425    0.109050\n",
       "2563     -0.218522    1.247843"
      ]
     },
     "execution_count": 24,
     "metadata": {},
     "output_type": "execute_result"
    }
   ],
   "source": [
    "X_standardized"
   ]
  },
  {
   "cell_type": "code",
   "execution_count": 25,
   "metadata": {},
   "outputs": [],
   "source": [
    "X_train = X_standardized.drop([2563])\n",
    "y_train = y.drop([2563])\n",
    "\n",
    "X_test = X_standardized.loc[[2563]]"
   ]
  },
  {
   "cell_type": "code",
   "execution_count": 26,
   "metadata": {
    "scrolled": true
   },
   "outputs": [
    {
     "data": {
      "text/html": [
       "<div>\n",
       "<style scoped>\n",
       "    .dataframe tbody tr th:only-of-type {\n",
       "        vertical-align: middle;\n",
       "    }\n",
       "\n",
       "    .dataframe tbody tr th {\n",
       "        vertical-align: top;\n",
       "    }\n",
       "\n",
       "    .dataframe thead th {\n",
       "        text-align: right;\n",
       "    }\n",
       "</style>\n",
       "<table border=\"1\" class=\"dataframe\">\n",
       "  <thead>\n",
       "    <tr style=\"text-align: right;\">\n",
       "      <th></th>\n",
       "      <th>PAT3_150up_N</th>\n",
       "      <th>Combined_A</th>\n",
       "    </tr>\n",
       "    <tr>\n",
       "      <th>Year</th>\n",
       "      <th></th>\n",
       "      <th></th>\n",
       "    </tr>\n",
       "  </thead>\n",
       "  <tbody>\n",
       "    <tr>\n",
       "      <th>2555</th>\n",
       "      <td>-1.565876</td>\n",
       "      <td>-2.056005</td>\n",
       "    </tr>\n",
       "    <tr>\n",
       "      <th>2556</th>\n",
       "      <td>1.594972</td>\n",
       "      <td>0.540152</td>\n",
       "    </tr>\n",
       "    <tr>\n",
       "      <th>2557</th>\n",
       "      <td>-0.079441</td>\n",
       "      <td>0.028410</td>\n",
       "    </tr>\n",
       "    <tr>\n",
       "      <th>2558</th>\n",
       "      <td>1.169034</td>\n",
       "      <td>0.238030</td>\n",
       "    </tr>\n",
       "    <tr>\n",
       "      <th>2559</th>\n",
       "      <td>-0.876987</td>\n",
       "      <td>-1.124465</td>\n",
       "    </tr>\n",
       "    <tr>\n",
       "      <th>2560</th>\n",
       "      <td>0.357363</td>\n",
       "      <td>0.317366</td>\n",
       "    </tr>\n",
       "    <tr>\n",
       "      <th>2561</th>\n",
       "      <td>0.363882</td>\n",
       "      <td>0.699620</td>\n",
       "    </tr>\n",
       "    <tr>\n",
       "      <th>2562</th>\n",
       "      <td>-0.744425</td>\n",
       "      <td>0.109050</td>\n",
       "    </tr>\n",
       "  </tbody>\n",
       "</table>\n",
       "</div>"
      ],
      "text/plain": [
       "      PAT3_150up_N  Combined_A\n",
       "Year                          \n",
       "2555     -1.565876   -2.056005\n",
       "2556      1.594972    0.540152\n",
       "2557     -0.079441    0.028410\n",
       "2558      1.169034    0.238030\n",
       "2559     -0.876987   -1.124465\n",
       "2560      0.357363    0.317366\n",
       "2561      0.363882    0.699620\n",
       "2562     -0.744425    0.109050"
      ]
     },
     "execution_count": 26,
     "metadata": {},
     "output_type": "execute_result"
    }
   ],
   "source": [
    "X_train"
   ]
  },
  {
   "cell_type": "code",
   "execution_count": 27,
   "metadata": {},
   "outputs": [
    {
     "data": {
      "text/html": [
       "<div>\n",
       "<style scoped>\n",
       "    .dataframe tbody tr th:only-of-type {\n",
       "        vertical-align: middle;\n",
       "    }\n",
       "\n",
       "    .dataframe tbody tr th {\n",
       "        vertical-align: top;\n",
       "    }\n",
       "\n",
       "    .dataframe thead th {\n",
       "        text-align: right;\n",
       "    }\n",
       "</style>\n",
       "<table border=\"1\" class=\"dataframe\">\n",
       "  <thead>\n",
       "    <tr style=\"text-align: right;\">\n",
       "      <th></th>\n",
       "      <th>CU_R3_Min</th>\n",
       "    </tr>\n",
       "    <tr>\n",
       "      <th>Year</th>\n",
       "      <th></th>\n",
       "    </tr>\n",
       "  </thead>\n",
       "  <tbody>\n",
       "    <tr>\n",
       "      <th>2555</th>\n",
       "      <td>16465.0</td>\n",
       "    </tr>\n",
       "    <tr>\n",
       "      <th>2556</th>\n",
       "      <td>19100.0</td>\n",
       "    </tr>\n",
       "    <tr>\n",
       "      <th>2557</th>\n",
       "      <td>18552.0</td>\n",
       "    </tr>\n",
       "    <tr>\n",
       "      <th>2558</th>\n",
       "      <td>19090.0</td>\n",
       "    </tr>\n",
       "    <tr>\n",
       "      <th>2559</th>\n",
       "      <td>17510.0</td>\n",
       "    </tr>\n",
       "    <tr>\n",
       "      <th>2560</th>\n",
       "      <td>18870.0</td>\n",
       "    </tr>\n",
       "    <tr>\n",
       "      <th>2561</th>\n",
       "      <td>18880.0</td>\n",
       "    </tr>\n",
       "    <tr>\n",
       "      <th>2562</th>\n",
       "      <td>18360.0</td>\n",
       "    </tr>\n",
       "  </tbody>\n",
       "</table>\n",
       "</div>"
      ],
      "text/plain": [
       "      CU_R3_Min\n",
       "Year           \n",
       "2555    16465.0\n",
       "2556    19100.0\n",
       "2557    18552.0\n",
       "2558    19090.0\n",
       "2559    17510.0\n",
       "2560    18870.0\n",
       "2561    18880.0\n",
       "2562    18360.0"
      ]
     },
     "execution_count": 27,
     "metadata": {},
     "output_type": "execute_result"
    }
   ],
   "source": [
    "y_train"
   ]
  },
  {
   "cell_type": "markdown",
   "metadata": {},
   "source": [
    "## Model Selection and Training\n",
    "ต่อจากนี้ เราจะเริ่มทำการหาโมเดล Machine Learning ที่จะทำนายคะแนนต่ำสุดที่ติดวิศวะ จุฬา รอบ 3\n",
    "โดยเบื้องต้น จะเน้นไปที่โมเดล Regression ดังนี้\n",
    "- Linear Regression\n",
    "- Random Forest Regressor\n",
    "- AdaBoost Regressor"
   ]
  },
  {
   "cell_type": "code",
   "execution_count": 28,
   "metadata": {},
   "outputs": [],
   "source": [
    "from sklearn.linear_model import LinearRegression\n",
    "from sklearn.ensemble import RandomForestRegressor, AdaBoostRegressor\n",
    "from sklearn.metrics import mean_absolute_error, make_scorer\n",
    "from sklearn.model_selection import GridSearchCV, cross_val_score, cross_validate"
   ]
  },
  {
   "cell_type": "code",
   "execution_count": 29,
   "metadata": {},
   "outputs": [],
   "source": [
    "RF = RandomForestRegressor(random_state=42)\n",
    "ADA = AdaBoostRegressor(random_state=42)\n",
    "LR = LinearRegression()\n",
    "\n",
    "models = [RF, ADA, LR]\n",
    "model_names = ['Random Forest', 'AdaBoost', 'Linear Regression']"
   ]
  },
  {
   "cell_type": "code",
   "execution_count": 30,
   "metadata": {
    "scrolled": true
   },
   "outputs": [
    {
     "name": "stdout",
     "output_type": "stream",
     "text": [
      "The mean mae for Random Forest                  is    276.284\n",
      "The mean mae for AdaBoost                       is    599.111\n",
      "The mean mae for Linear Regression              is    236.805\n"
     ]
    }
   ],
   "source": [
    "# Calculate the scores for all models using cross-validation method\n",
    "n_models = len(models)\n",
    "for i in range(0, n_models):\n",
    "    model = models[i]\n",
    "    model_name = model_names[i]\n",
    "    scores = cross_val_score(model, X_train, y_train.values.ravel(), cv=3, scoring='neg_mean_absolute_error')\n",
    "    mae = - scores.mean()\n",
    "    print('The mean mae for {:<30} is {:>10.3f}'.format(model_name, mae))"
   ]
  },
  {
   "cell_type": "markdown",
   "metadata": {},
   "source": [
    "พบว่า โมเดล Linear Regression แม่นยำสุด ดังนั้น เราจะลอง Train โมเดล Linear Regression ก่อน"
   ]
  },
  {
   "cell_type": "markdown",
   "metadata": {},
   "source": [
    "### Linear Regression"
   ]
  },
  {
   "cell_type": "code",
   "execution_count": 31,
   "metadata": {},
   "outputs": [],
   "source": [
    "LR_CV_results = cross_validate(LR, X_train, y_train, cv=3, scoring='neg_mean_absolute_error',\n",
    "                               return_estimator=True)"
   ]
  },
  {
   "cell_type": "code",
   "execution_count": 32,
   "metadata": {},
   "outputs": [
    {
     "data": {
      "text/plain": [
       "{'fit_time': array([0.        , 0.00314331, 0.00199652]),\n",
       " 'score_time': array([0.00599742, 0.00055456, 0.00052047]),\n",
       " 'estimator': (LinearRegression(copy_X=True, fit_intercept=True, n_jobs=None, normalize=False),\n",
       "  LinearRegression(copy_X=True, fit_intercept=True, n_jobs=None, normalize=False),\n",
       "  LinearRegression(copy_X=True, fit_intercept=True, n_jobs=None, normalize=False)),\n",
       " 'test_score': array([-226.06603553, -207.8639593 , -276.48645646])}"
      ]
     },
     "execution_count": 32,
     "metadata": {},
     "output_type": "execute_result"
    }
   ],
   "source": [
    "LR_CV_results"
   ]
  },
  {
   "cell_type": "code",
   "execution_count": 33,
   "metadata": {},
   "outputs": [],
   "source": [
    "LR_model_CV = LR_CV_results['estimator']"
   ]
  },
  {
   "cell_type": "code",
   "execution_count": 34,
   "metadata": {},
   "outputs": [],
   "source": [
    "LR_predictions = []\n",
    "for estimator in LR_model_CV:\n",
    "    train_preds = estimator.predict(X_train)\n",
    "    test_preds = estimator.predict(X_test)\n",
    "    LR_predictions.append(np.append(train_preds,test_preds))    "
   ]
  },
  {
   "cell_type": "code",
   "execution_count": 35,
   "metadata": {
    "scrolled": true
   },
   "outputs": [
    {
     "data": {
      "image/png": "[encoded data removed]",
      "text/plain": [
       "<Figure size 432x288 with 1 Axes>"
      ]
     },
     "metadata": {
      "needs_background": "light"
     },
     "output_type": "display_data"
    }
   ],
   "source": [
    "for i in range(len(LR_predictions)):\n",
    "    plt.plot(np.arange(2555,2564), LR_predictions[i])\n",
    "plt.plot(np.arange(2555,2563), y_train.values.ravel(), linestyle='dashed')\n",
    "plt.xticks(np.arange(2555,2564))\n",
    "plt.legend(['Model {}'.format(i) for i in range(len(LR_predictions))] + ['True'])\n",
    "plt.xlabel('Year')\n",
    "plt.ylabel('Score')\n",
    "plt.title('Chula Engineering TCAS 3 Score Predictions with Linear Regression')\n",
    "plt.show()"
   ]
  },
  {
   "cell_type": "markdown",
   "metadata": {},
   "source": [
    "Model 1 มีคะแนนที่ดีที่สุด"
   ]
  },
  {
   "cell_type": "code",
   "execution_count": 36,
   "metadata": {},
   "outputs": [
    {
     "name": "stdout",
     "output_type": "stream",
     "text": [
      "คะแนนทำนายต่ำสุด วิศวะ จุฬา = 19334.39\n"
     ]
    }
   ],
   "source": [
    "print(\"คะแนนทำนายต่ำสุด วิศวะ จุฬา = {:.2f}\".format(LR_predictions[1][-1]))"
   ]
  },
  {
   "cell_type": "markdown",
   "metadata": {},
   "source": [
    "รายงานคะแนนทำนายดังนี้\n",
    "\n",
    "> คะแนน Model 1 ± ค่าเฉลี่ยความคลาดเคลื่อนสัมบูรณ์ของ 3 โมเดล"
   ]
  },
  {
   "cell_type": "code",
   "execution_count": 51,
   "metadata": {},
   "outputs": [
    {
     "name": "stdout",
     "output_type": "stream",
     "text": [
      "คะแนนทำนายต่ำสุด วิศวะ จุฬา = 19334.39 ± 236.81\n"
     ]
    }
   ],
   "source": [
    "model1_score = LR_predictions[1][-1]\n",
    "model_average_mae = LR_CV_results['test_score'].mean()\n",
    "confidence_int = np.abs(model_average_mae)\n",
    "\n",
    "print(\"คะแนนทำนายต่ำสุด วิศวะ จุฬา = {:.2f} ± {:.2f}\".format(model1_score, confidence_int))"
   ]
  },
  {
   "cell_type": "markdown",
   "metadata": {},
   "source": [
    "ลองดูว่า สัมประสิทธิ์ของตัวแปรไหนบ้างที่มีความสำคัญต่อการทำนายคะแนน"
   ]
  },
  {
   "cell_type": "code",
   "execution_count": 39,
   "metadata": {},
   "outputs": [],
   "source": [
    "coefficients = pd.Series(LR_model_CV[1].coef_[0], index=X_train.columns)"
   ]
  },
  {
   "cell_type": "code",
   "execution_count": 40,
   "metadata": {
    "scrolled": false
   },
   "outputs": [
    {
     "data": {
      "text/plain": [
       "Text(0.5, 1.0, 'Feature importance using Linear Regression')"
      ]
     },
     "execution_count": 40,
     "metadata": {},
     "output_type": "execute_result"
    },
    {
     "data": {
      "image/png": "[encoded data removed]",
      "text/plain": [
       "<Figure size 432x288 with 1 Axes>"
      ]
     },
     "metadata": {
      "needs_background": "light"
     },
     "output_type": "display_data"
    }
   ],
   "source": [
    "imp_coef = coefficients.sort_values()\n",
    "imp_coef.plot(kind = \"barh\")\n",
    "plt.title(\"Feature importance using Linear Regression\")"
   ]
  },
  {
   "cell_type": "code",
   "execution_count": 41,
   "metadata": {},
   "outputs": [
    {
     "data": {
      "image/png": "[encoded data removed]",
      "text/plain": [
       "<Figure size 864x720 with 2 Axes>"
      ]
     },
     "metadata": {
      "needs_background": "light"
     },
     "output_type": "display_data"
    }
   ],
   "source": [
    "# Pearson Correlation\n",
    "plt.figure(figsize=(12,10))\n",
    "cor = X_train.corr()\n",
    "sns.heatmap(cor, annot=True, cmap=plt.cm.Reds)\n",
    "plt.show()"
   ]
  },
  {
   "cell_type": "markdown",
   "metadata": {},
   "source": [
    "ข้อสังเกต\n",
    "- คะแนน PAT3 ตามมาด้วย PAT1 กลุ่มที่ได้คะแนนสูง มีผลมากๆ ในการทำนาย\n",
    "- น่าสนใจว่าจำนวนคนที่ได้คะแนน GAT ในช่วง 150-179 มีผลมากที่สุดต่อคะแนนทำนาย ซึ่งจาก Correlation Plot เราพบว่า Feature นี้ Correlate กับ PAT3_270 ค่อนข้างมาก (corr = 0.44) อาจคาดเดาได้ว่า ถ้าปีนั้นมีคนได้คะแนน GAT ช่วง 150-179 เยอะ จะทำให้มีคนได้คะแนน PAT3 สูงๆ จำนวนเยอะขึ้น แต่นี่เป็นเพียงการคาดเดาเท่านั้น"
   ]
  },
  {
   "cell_type": "markdown",
   "metadata": {},
   "source": [
    "### Random Forest Regressor"
   ]
  },
  {
   "cell_type": "code",
   "execution_count": 42,
   "metadata": {},
   "outputs": [],
   "source": [
    "def get_best_model(model, parameters):\n",
    "    ''' Return the best tuned model with its mse score\n",
    "    INPUT: model - untuned model\n",
    "    parameters - dictionary of tuning hyper parameters\n",
    "    OUTPUT: best_model - the best tuned model\n",
    "    mse - model cv mse\n",
    "    '''\n",
    "    scorer = make_scorer(mean_absolute_error, greater_is_better=False)\n",
    "    grid_obj = GridSearchCV(model, parameters, scoring = scorer, cv=3)\n",
    "    grid_fit = grid_obj.fit(X_train, y_train.values.ravel())\n",
    "    best_model = grid_fit.best_estimator_\n",
    "    mae = - grid_fit.best_score_\n",
    "    \n",
    "    return best_model, mae"
   ]
  },
  {
   "cell_type": "code",
   "execution_count": 43,
   "metadata": {
    "scrolled": true
   },
   "outputs": [
    {
     "name": "stdout",
     "output_type": "stream",
     "text": [
      "RandomForestRegressor(bootstrap=True, ccp_alpha=0.0, criterion='mse',\n",
      "                      max_depth=5, max_features='auto', max_leaf_nodes=None,\n",
      "                      max_samples=None, min_impurity_decrease=0.0,\n",
      "                      min_impurity_split=None, min_samples_leaf=1,\n",
      "                      min_samples_split=2, min_weight_fraction_leaf=0.0,\n",
      "                      n_estimators=200, n_jobs=None, oob_score=False,\n",
      "                      random_state=42, verbose=0, warm_start=False)\n",
      "The mae for RF best model on training set is: 269.666\n"
     ]
    }
   ],
   "source": [
    "parameters = {\"bootstrap\" : [True],\n",
    "              \"max_depth\" : [2,5,7,10],\n",
    "              \"min_samples_leaf\" : [1],\n",
    "              \"min_samples_split\" : [2],\n",
    "              \"n_estimators\": [200, 300, 400, 500, 700]}\n",
    "\n",
    "RF_best_model, RF_best_mae = get_best_model(RF, parameters)\n",
    "print(RF_best_model)\n",
    "print(\"The mae for RF best model on training set is: {:.3f}\".format(RF_best_mae))"
   ]
  },
  {
   "cell_type": "code",
   "execution_count": 44,
   "metadata": {},
   "outputs": [],
   "source": [
    "RF_CV_results = cross_validate(RF_best_model, X_train, y_train.values.ravel(), cv=3, scoring='neg_mean_absolute_error',\n",
    "                               return_estimator=True)"
   ]
  },
  {
   "cell_type": "code",
   "execution_count": 45,
   "metadata": {
    "scrolled": false
   },
   "outputs": [
    {
     "data": {
      "text/plain": [
       "{'fit_time': array([0.19327784, 0.1811645 , 0.17928243]),\n",
       " 'score_time': array([0.00908303, 0.01190281, 0.00869489]),\n",
       " 'estimator': (RandomForestRegressor(bootstrap=True, ccp_alpha=0.0, criterion='mse',\n",
       "                        max_depth=5, max_features='auto', max_leaf_nodes=None,\n",
       "                        max_samples=None, min_impurity_decrease=0.0,\n",
       "                        min_impurity_split=None, min_samples_leaf=1,\n",
       "                        min_samples_split=2, min_weight_fraction_leaf=0.0,\n",
       "                        n_estimators=200, n_jobs=None, oob_score=False,\n",
       "                        random_state=42, verbose=0, warm_start=False),\n",
       "  RandomForestRegressor(bootstrap=True, ccp_alpha=0.0, criterion='mse',\n",
       "                        max_depth=5, max_features='auto', max_leaf_nodes=None,\n",
       "                        max_samples=None, min_impurity_decrease=0.0,\n",
       "                        min_impurity_split=None, min_samples_leaf=1,\n",
       "                        min_samples_split=2, min_weight_fraction_leaf=0.0,\n",
       "                        n_estimators=200, n_jobs=None, oob_score=False,\n",
       "                        random_state=42, verbose=0, warm_start=False),\n",
       "  RandomForestRegressor(bootstrap=True, ccp_alpha=0.0, criterion='mse',\n",
       "                        max_depth=5, max_features='auto', max_leaf_nodes=None,\n",
       "                        max_samples=None, min_impurity_decrease=0.0,\n",
       "                        min_impurity_split=None, min_samples_leaf=1,\n",
       "                        min_samples_split=2, min_weight_fraction_leaf=0.0,\n",
       "                        n_estimators=200, n_jobs=None, oob_score=False,\n",
       "                        random_state=42, verbose=0, warm_start=False)),\n",
       " 'test_score': array([-556.4   , -188.64  ,  -63.9575])}"
      ]
     },
     "execution_count": 45,
     "metadata": {},
     "output_type": "execute_result"
    }
   ],
   "source": [
    "RF_CV_results"
   ]
  },
  {
   "cell_type": "code",
   "execution_count": 46,
   "metadata": {},
   "outputs": [],
   "source": [
    "RF_model_CV = RF_CV_results['estimator']"
   ]
  },
  {
   "cell_type": "code",
   "execution_count": 47,
   "metadata": {},
   "outputs": [],
   "source": [
    "RF_predictions = []\n",
    "for estimator in RF_model_CV:\n",
    "    train_preds = estimator.predict(X_train)\n",
    "    test_preds = estimator.predict(X_test)\n",
    "    RF_predictions.append(np.append(train_preds,test_preds)) "
   ]
  },
  {
   "cell_type": "code",
   "execution_count": 48,
   "metadata": {
    "scrolled": true
   },
   "outputs": [
    {
     "data": {
      "image/png": "[encoded data removed]",
      "text/plain": [
       "<Figure size 432x288 with 1 Axes>"
      ]
     },
     "metadata": {
      "needs_background": "light"
     },
     "output_type": "display_data"
    }
   ],
   "source": [
    "for i in range(len(RF_predictions)):\n",
    "    plt.plot(np.arange(2555,2564), RF_predictions[i])\n",
    "plt.plot(np.arange(2555,2563), y_train.values.ravel(), linestyle='dashed')\n",
    "plt.xticks(np.arange(2555,2564))\n",
    "plt.legend(['Model {}'.format(i) for i in range(len(RF_predictions))] + ['True'])\n",
    "plt.xlabel('Year')\n",
    "plt.ylabel('Score')\n",
    "plt.title('Chula Engineering TCAS 3 Score Predictions with Random Forest Regressor')\n",
    "plt.show()"
   ]
  },
  {
   "cell_type": "markdown",
   "metadata": {},
   "source": [
    "โมเดลที่ 2 สี mae score ดีที่สุด แต่ในที่นี้ รายงานความคลาดเคลื่อนด้วย average mae"
   ]
  },
  {
   "cell_type": "code",
   "execution_count": 50,
   "metadata": {},
   "outputs": [
    {
     "name": "stdout",
     "output_type": "stream",
     "text": [
      "คะแนนทำนายต่ำสุด วิศวะ จุฬา = 18753.29 ± 269.67\n"
     ]
    }
   ],
   "source": [
    "model2_score = RF_predictions[2][-1]\n",
    "model_average_mae = RF_CV_results['test_score'].mean()\n",
    "confidence_int = np.abs(model_average_mae)\n",
    "\n",
    "print(\"คะแนนทำนายต่ำสุด วิศวะ จุฬา = {:.2f} ± {:.2f}\".format(model2_score, confidence_int))"
   ]
  },
  {
   "cell_type": "markdown",
   "metadata": {},
   "source": [
    "ลองดูความสำคัญของ Features ต่างๆ ของโมเดล 2 ที่ Error น้อย"
   ]
  },
  {
   "cell_type": "code",
   "execution_count": 114,
   "metadata": {
    "scrolled": false
   },
   "outputs": [
    {
     "data": {
      "image/png": "[encoded data removed]",
      "text/plain": [
       "<Figure size 432x288 with 1 Axes>"
      ]
     },
     "metadata": {
      "needs_background": "light"
     },
     "output_type": "display_data"
    }
   ],
   "source": [
    "features = X_train.columns\n",
    "importances = RF_model_CV[2].feature_importances_\n",
    "indices = np.argsort(importances)\n",
    "\n",
    "plt.title('Feature Importances')\n",
    "plt.barh(range(len(indices)), importances[indices], color='b', align='center')\n",
    "plt.yticks(range(len(indices)), [features[i] for i in indices])\n",
    "plt.xlabel('Relative Importance')\n",
    "plt.show()"
   ]
  },
  {
   "cell_type": "markdown",
   "metadata": {},
   "source": [
    "## สิ่งที่อาจทำเพิ่ม ถ้ามีเวลามากขึ้น\n",
    "\n",
    "- เลือก Features ใหม่ๆ มาวิเคราะห์ อาจทำให้ทำนายคะแนนได้แม่นยำขึ้น\n",
    "- ลองโมเดลอื่นๆ ดู เช่น อาจลอง Train Neural Network ดู 555\n",
    "- ลองทำนายคะแนนของสถาบันอื่น"
   ]
  },
  {
   "cell_type": "markdown",
   "metadata": {},
   "source": [
    "## สรุปผลการวิเคราะห์\n",
    "\n",
    "จากการทำนายด้วยโมเดล Linear Regression พบว่า คะแนนทำนายต่ำสุดเพื่อสอบติด วิศวะ จุฬา TCAS รอบ 3 ปี 2563 โดยใช้ข้อมูลปี 2555-2562 คือ\n",
    "\n",
    "> ### 19,334 ± 237 คะแนน\n",
    "\n",
    "ข้อสรุปจากการวิเคราะห์\n",
    "- คะแนนปีนี้ มีแนวโน้ม **เฟ้อ**มากกว่าทุกปีที่ผ่านมา (สังเกตเบื้องต้นได้จากจำนวนคนทำ PAT1 ได้เกิน 120 ที่เพิ่มขึ้นจากปีก่อนๆ ถึงเท่าตัว)\n",
    "- คะแนนปีนี้ มีแนวโน้มใกล้เคียงคะแนนปี **2558** และ **2560**\n",
    "- น้องที่มีคะแนนในช่วง 19,XXX มีสิทธิ์ลุ้นสอบติดนะครับ (แม้แต่หากน้องได้ 18,XXX ก็ควรลองยื่นเป็นอันดับ 1 ดูครับ)\n",
    "- แต่พี่ขอย้ำอีกทีนะครับว่า คะแนนทำนายนี้ เป็นเพียงคะแนนทำนายเท่านั้น ทำให้อาจมีปัจจัยอื่นที่โมเดลไม่ได้คำนึงถึงครับ\n",
    "\n",
    "ทั้งนี้ การเลือกคณะ พี่แนะนำให้น้องเลือกด้วยหลักการดังนี้นะครับ\n",
    "\n",
    "- **อันดับ 1:** เลือกตามความอยากเลยโดยไม่ต้องแคร์คะแนนที่น้องได้ จะได้ไม่คาใจครับ\n",
    "- **อันดับ 2-3:** คะแนนของน้อง อยู่ในช่วงค่าต่ำสุดที่สอบติดของ 3 ปีย้อนหลัง\n",
    "- **อันดับ 4-5:** คะแนนของน้อง เกินคะแนนต่ำสุดที่สอบติดของ 3 ปี ย้อนหลัง อย่างน้อย 1500 คะแนน (สเกลเต็ม 30000)\n",
    "- **อันดับ 6:** คะแนนของน้อง เกินคะแนนต่ำสุดที่สอบติดของ 3 ปี ย้อนหลัง อย่างน้อย 3000 คะแนน (สเกลเต็ม 30000)\n",
    "\n",
    "และน้องสามารถวิเคราะห์คะแนนและดูสถิติเพิ่มเติม ได้ที่แอพพลิเคชั่น TCASter (https://tcaster.net/) หรือติดตามข่าวสารได้ที่ Facebook Fanpage (https://www.facebook.com/TCASterApp/) ครับ\n",
    "\n",
    "แล้วก็ เดี๋ยวพี่จะวิเคราะห์คะแนน กสพท ให้ด้วย รอติดตามได้ทาง Instagram ของพี่ ที่ https://www.instagram.com/pgreatondemand นะครับ\n",
    "\n",
    "ขอให้น้องๆ สอบติดได้ตามที่ตั้งใจไว้นะ :-)\n",
    "\n",
    "_- พี่เกรท ออนดีมานด์_"
   ]
  }
 ],
 "metadata": {
  "kernelspec": {
   "display_name": "Python 3",
   "language": "python",
   "name": "python3"
  },
  "language_info": {
   "codemirror_mode": {
    "name": "ipython",
    "version": 3
   },
   "file_extension": ".py",
   "mimetype": "text/x-python",
   "name": "python",
   "nbconvert_exporter": "python",
   "pygments_lexer": "ipython3",
   "version": "3.7.6"
  }
 },
 "nbformat": 4,
 "nbformat_minor": 4
}
